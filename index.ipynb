{
 "cells": [
  {
   "cell_type": "code",
   "execution_count": 21,
   "metadata": {},
   "outputs": [],
   "source": [
    "from pyspark.sql import SparkSession\n",
    "\n",
    "spark = SparkSession.builder.appName('weserve').getOrCreate()"
   ]
  },
  {
   "cell_type": "code",
   "execution_count": 22,
   "metadata": {},
   "outputs": [
    {
     "name": "stdout",
     "output_type": "stream",
     "text": [
      "+---+--------+-------+--------------------+----------+--------+-------------------------+\n",
      "| id|callerID|agentID|      complaintTopic|assignedTo|  status|resolutionDurationInHours|\n",
      "+---+--------+-------+--------------------+----------+--------+-------------------------+\n",
      "|  1|CALLER_1|    163| Billing discrepancy|       122|  CLOSED|                       33|\n",
      "|  2|CALLER_2|    133|Difficulty reachi...|      null|     new|                     null|\n",
      "|  3|CALLER_3|    153| Wrong item received|       122|resolved|                     null|\n",
      "|  4|CALLER_4|    161|Unauthorized charges|       151| pEnding|                     null|\n",
      "|  5|CALLER_5|    148|Unprofessional be...|      null|     new|                     null|\n",
      "+---+--------+-------+--------------------+----------+--------+-------------------------+\n",
      "only showing top 5 rows\n",
      "\n"
     ]
    }
   ],
   "source": [
    "df_call_logs = spark.read.csv('call log.csv', header = True)\n",
    "\n",
    "df_call_logs.show(5)"
   ]
  },
  {
   "cell_type": "code",
   "execution_count": 23,
   "metadata": {},
   "outputs": [],
   "source": [
    "df_call_logs = df_call_logs.dropDuplicates()"
   ]
  },
  {
   "cell_type": "markdown",
   "metadata": {},
   "source": [
    "## Data Exploration "
   ]
  },
  {
   "cell_type": "code",
   "execution_count": 24,
   "metadata": {},
   "outputs": [
    {
     "name": "stdout",
     "output_type": "stream",
     "text": [
      "root\n",
      " |-- id: string (nullable = true)\n",
      " |-- callerID: string (nullable = true)\n",
      " |-- agentID: string (nullable = true)\n",
      " |-- complaintTopic: string (nullable = true)\n",
      " |-- assignedTo: string (nullable = true)\n",
      " |-- status: string (nullable = true)\n",
      " |-- resolutionDurationInHours: string (nullable = true)\n",
      "\n"
     ]
    }
   ],
   "source": [
    "# columns and data types\n",
    "df_call_logs.printSchema()  "
   ]
  },
  {
   "cell_type": "code",
   "execution_count": 25,
   "metadata": {},
   "outputs": [
    {
     "name": "stdout",
     "output_type": "stream",
     "text": [
      "+-------+-----------------+---------+------------------+-------------------+------------------+--------+-------------------------+\n",
      "|summary|               id| callerID|           agentID|     complaintTopic|        assignedTo|  status|resolutionDurationInHours|\n",
      "+-------+-----------------+---------+------------------+-------------------+------------------+--------+-------------------------+\n",
      "|  count|              600|      600|               600|                600|               372|     600|                      187|\n",
      "|   mean|            300.5|     null|151.85166666666666|               null| 150.7983870967742|    null|       26.780748663101605|\n",
      "| stddev|173.3493582335971|     null|17.966384783604724|               null|17.255014430535844|    null|       13.058596372559972|\n",
      "|    min|                1| CALLER_1|               121|Billing discrepancy|               121|  CLOSED|                       10|\n",
      "|    max|               99|CALLER_99|               181|Wrong item received|               181|resolved|                        9|\n",
      "+-------+-----------------+---------+------------------+-------------------+------------------+--------+-------------------------+\n",
      "\n"
     ]
    }
   ],
   "source": [
    "# Statistical information\n",
    "df_call_logs.describe().show()"
   ]
  },
  {
   "cell_type": "markdown",
   "metadata": {},
   "source": [
    "# Tasks to perform\n",
    "1. Rename the columns for easy readability\n",
    "2. Fill all null records with 'N/A'\n",
    "3. Transform all values in 'status' column to sentence-case format\n",
    "4. Change data type of 'resolutionDurationInHours' to integer type"
   ]
  },
  {
   "cell_type": "code",
   "execution_count": 26,
   "metadata": {},
   "outputs": [
    {
     "name": "stdout",
     "output_type": "stream",
     "text": [
      "+---+----------+--------+--------------------+-----------+-------+----------------------------+\n",
      "| id| caller_id|agent_id|     complaint_topic|assigned_to| status|resolution_duration_in_hours|\n",
      "+---+----------+--------+--------------------+-----------+-------+----------------------------+\n",
      "|181|CALLER_181|     126|   Incorrect charges|       null|pEnding|                        null|\n",
      "|338|CALLER_338|     164| Wrong item received|       null|pEnding|                        null|\n",
      "|462|CALLER_462|     166|Difficulty gettin...|       null| closed|                           9|\n",
      "+---+----------+--------+--------------------+-----------+-------+----------------------------+\n",
      "only showing top 3 rows\n",
      "\n"
     ]
    }
   ],
   "source": [
    "# 1. Rename columns \n",
    "renamed_columns = {'callerID':'caller_id'\n",
    "                  , 'agentID':'agent_id' \n",
    "                  ,'complaintTopic': 'complaint_topic'\n",
    "                  ,'assignedTo':'assigned_to'\n",
    "                  ,'resolutionDurationInHours': 'resolution_duration_in_hours'}\n",
    "\n",
    "df_call_logs = df_call_logs.withColumnsRenamed(renamed_columns)\n",
    "\n",
    "df_call_logs.show(3)"
   ]
  },
  {
   "cell_type": "code",
   "execution_count": 27,
   "metadata": {},
   "outputs": [],
   "source": [
    "# 2. Filling all null records with 'N/A'\n",
    "\n",
    "df_call_logs = df_call_logs.fillna({'assigned_to': 'N/A'})"
   ]
  },
  {
   "cell_type": "code",
   "execution_count": 28,
   "metadata": {},
   "outputs": [
    {
     "name": "stdout",
     "output_type": "stream",
     "text": [
      "+-------+-----------------+---------+------------------+-------------------+------------------+--------+----------------------------+\n",
      "|summary|               id|caller_id|          agent_id|    complaint_topic|       assigned_to|  status|resolution_duration_in_hours|\n",
      "+-------+-----------------+---------+------------------+-------------------+------------------+--------+----------------------------+\n",
      "|  count|              600|      600|               600|                600|               600|     600|                         187|\n",
      "|   mean|            300.5|     null|151.85166666666666|               null| 150.7983870967742|    null|          26.780748663101605|\n",
      "| stddev|173.3493582335971|     null|17.966384783604724|               null|17.255014430535844|    null|          13.058596372559972|\n",
      "|    min|                1| CALLER_1|               121|Billing discrepancy|               121|  CLOSED|                          10|\n",
      "|    max|               99|CALLER_99|               181|Wrong item received|               N/A|resolved|                           9|\n",
      "+-------+-----------------+---------+------------------+-------------------+------------------+--------+----------------------------+\n",
      "\n"
     ]
    }
   ],
   "source": [
    "df_call_logs.describe().show()"
   ]
  },
  {
   "cell_type": "code",
   "execution_count": 29,
   "metadata": {},
   "outputs": [],
   "source": [
    "\n",
    "from pyspark.sql.types import IntegerType, StringType\n",
    "\n",
    "from pyspark.sql.functions import col, when, lower"
   ]
  },
  {
   "cell_type": "code",
   "execution_count": 30,
   "metadata": {},
   "outputs": [],
   "source": [
    "# 3. Changing data type of 'resolution_duration_in_hours' to int\n",
    "df_call_logs = df_call_logs.withColumn('resolution_duration_in_hours', col('resolution_duration_in_hours').cast(IntegerType()))"
   ]
  },
  {
   "cell_type": "code",
   "execution_count": 31,
   "metadata": {},
   "outputs": [],
   "source": [
    "## 4. Transforming all values in 'status' column to sentence case format\n",
    "\n",
    "df_call_logs =df_call_logs.withColumn('status', when(lower('status')== 'closed', 'Closed').otherwise(df_call_logs.status))\n",
    "\n",
    "df_call_logs =df_call_logs.withColumn('status', when(lower('status')== 'new', 'New').otherwise(df_call_logs.status))\n",
    "\n",
    "df_call_logs =df_call_logs.withColumn('status', when(lower('status')== 'resolved', 'Resolved').otherwise(df_call_logs.status))\n",
    "\n",
    "df_call_logs =df_call_logs.withColumn('status', when(lower('status')== 'pending', 'Pending').otherwise(df_call_logs.status))\n"
   ]
  },
  {
   "cell_type": "code",
   "execution_count": 32,
   "metadata": {},
   "outputs": [
    {
     "name": "stdout",
     "output_type": "stream",
     "text": [
      "+---+----------+--------+--------------------+-----------+-------+----------------------------+\n",
      "| id| caller_id|agent_id|     complaint_topic|assigned_to| status|resolution_duration_in_hours|\n",
      "+---+----------+--------+--------------------+-----------+-------+----------------------------+\n",
      "|181|CALLER_181|     126|   Incorrect charges|        N/A|Pending|                        null|\n",
      "|338|CALLER_338|     164| Wrong item received|        N/A|Pending|                        null|\n",
      "|462|CALLER_462|     166|Difficulty gettin...|        N/A| Closed|                           9|\n",
      "|593|CALLER_593|     171|Inadequate produc...|        144|    New|                        null|\n",
      "| 32| CALLER_32|     157|   Lack of follow-up|        N/A|    New|                        null|\n",
      "+---+----------+--------+--------------------+-----------+-------+----------------------------+\n",
      "only showing top 5 rows\n",
      "\n"
     ]
    }
   ],
   "source": [
    "df_call_logs.show(5)"
   ]
  },
  {
   "cell_type": "code",
   "execution_count": 33,
   "metadata": {},
   "outputs": [],
   "source": [
    "# write to csv\n",
    "df_call_logs.write.csv('transformed_call_logs', header= True)"
   ]
  },
  {
   "cell_type": "markdown",
   "metadata": {},
   "source": [
    "## Second dataset: Call details"
   ]
  },
  {
   "cell_type": "code",
   "execution_count": 34,
   "metadata": {},
   "outputs": [
    {
     "name": "stdout",
     "output_type": "stream",
     "text": [
      "+-----------------+---------------------+----------------+--------+----------------+\n",
      "|           callID|callDurationInSeconds|agentsGradeLevel|callType|callEndedByAgent|\n",
      "+-----------------+---------------------+----------------+--------+----------------+\n",
      "|ageentsGradeLevel|                   97|               A| Inbound|           FALSE|\n",
      "|                2|                   64|               E|in-bound|            TRUE|\n",
      "|                3|                  100|               C|in-bound|           FALSE|\n",
      "|                4|                   69|               D|Outbound|            TRUE|\n",
      "|                5|                   96|               D| Inbound|            TRUE|\n",
      "+-----------------+---------------------+----------------+--------+----------------+\n",
      "only showing top 5 rows\n",
      "\n"
     ]
    }
   ],
   "source": [
    "df_call_details =  spark.read.csv(\"call details.csv\", header = True)\n",
    "\n",
    "df_call_details.show(5)"
   ]
  },
  {
   "cell_type": "markdown",
   "metadata": {},
   "source": [
    "# Data exploration"
   ]
  },
  {
   "cell_type": "code",
   "execution_count": 35,
   "metadata": {},
   "outputs": [
    {
     "name": "stdout",
     "output_type": "stream",
     "text": [
      "root\n",
      " |-- callID: string (nullable = true)\n",
      " |-- callDurationInSeconds: string (nullable = true)\n",
      " |-- agentsGradeLevel: string (nullable = true)\n",
      " |-- callType: string (nullable = true)\n",
      " |-- callEndedByAgent: string (nullable = true)\n",
      "\n"
     ]
    }
   ],
   "source": [
    "df_call_details.printSchema()"
   ]
  },
  {
   "cell_type": "code",
   "execution_count": 36,
   "metadata": {},
   "outputs": [
    {
     "name": "stdout",
     "output_type": "stream",
     "text": [
      "+-------+------------------+---------------------+----------------+--------+----------------+\n",
      "|summary|            callID|callDurationInSeconds|agentsGradeLevel|callType|callEndedByAgent|\n",
      "+-------+------------------+---------------------+----------------+--------+----------------+\n",
      "|  count|               600|                  600|             600|     600|             600|\n",
      "|   mean|             301.0|              104.165|            null|    null|            null|\n",
      "| stddev|173.06068299876782|   25.746700681705267|            null|    null|            null|\n",
      "|    min|                10|                  100|               A| Inbound|           FALSE|\n",
      "|    max| ageentsGradeLevel|                   99|               F|in-bound|            TRUE|\n",
      "+-------+------------------+---------------------+----------------+--------+----------------+\n",
      "\n"
     ]
    }
   ],
   "source": [
    "df_call_details.describe().show()"
   ]
  },
  {
   "cell_type": "code",
   "execution_count": 37,
   "metadata": {},
   "outputs": [],
   "source": [
    "df_call_details = df_call_details.dropDuplicates()"
   ]
  },
  {
   "cell_type": "markdown",
   "metadata": {},
   "source": [
    "## "
   ]
  },
  {
   "cell_type": "markdown",
   "metadata": {},
   "source": [
    "## Tasks to perform\n",
    "1. Rename columns for easy readability\n",
    "2. Convert 'callDurationInSeconds' column to IntegerType\n",
    "3. Transform values in 'callType' and 'callEndedByAgent' columns to sentence case format\n",
    "4. Clean wrong input in callID column "
   ]
  },
  {
   "cell_type": "code",
   "execution_count": 38,
   "metadata": {},
   "outputs": [],
   "source": [
    "# 1. Rename columns\n",
    "\n",
    "renamed_columns2 = {'callID':'call_id', \n",
    "                    'callDurationInSeconds' : 'call_duration_in_seconds'\n",
    "                    , 'agentsGradeLevel': 'agents_grade_level'\n",
    "                    , 'callType':'call_type'\n",
    "                    , 'callEndedByAgent': 'call_ended_by_agent'}\n",
    "\n",
    "df_call_details = df_call_details.withColumnsRenamed(renamed_columns2)"
   ]
  },
  {
   "cell_type": "code",
   "execution_count": 39,
   "metadata": {},
   "outputs": [],
   "source": [
    "# 2. Convert 'callDurationInSeconds' column to IntegerType\n",
    "\n",
    "df_call_details = df_call_details.withColumn('call_duration_in_seconds', col('call_duration_in_seconds').cast(IntegerType()))"
   ]
  },
  {
   "cell_type": "code",
   "execution_count": 40,
   "metadata": {},
   "outputs": [],
   "source": [
    "# 3a. Transform values in 'call_type' column to sentence case format\n",
    "df_call_details = df_call_details.withColumn('call_type', when(lower('call_type')== 'inbound', 'Inbound').otherwise(df_call_details.call_type))\n",
    "\n",
    "df_call_details = df_call_details.withColumn('call_type', when(lower('call_type')== 'in-bound', 'Inbound').otherwise(df_call_details.call_type))\n",
    "\n"
   ]
  },
  {
   "cell_type": "code",
   "execution_count": 41,
   "metadata": {},
   "outputs": [],
   "source": [
    "# 3b. Transform values in 'call_ended_by_agent' column to sentence case format\n",
    "\n",
    "df_call_details = df_call_details.withColumn('call_ended_by_agent', when(lower('call_ended_by_agent')== 'true', 'True').otherwise(df_call_details.call_ended_by_agent))\n",
    "\n",
    "df_call_details = df_call_details.withColumn('call_ended_by_agent', when(lower('call_ended_by_agent')== 'false', 'False').otherwise(df_call_details.call_ended_by_agent))\n"
   ]
  },
  {
   "cell_type": "code",
   "execution_count": 42,
   "metadata": {},
   "outputs": [],
   "source": [
    "# 4. Clean wrong input in callID column \n",
    "\n",
    "df_call_details= df_call_details.na.replace('ageentsGradeLevel', '1')"
   ]
  },
  {
   "cell_type": "code",
   "execution_count": 43,
   "metadata": {},
   "outputs": [
    {
     "name": "stdout",
     "output_type": "stream",
     "text": [
      "+-------+------------------------+------------------+---------+-------------------+\n",
      "|call_id|call_duration_in_seconds|agents_grade_level|call_type|call_ended_by_agent|\n",
      "+-------+------------------------+------------------+---------+-------------------+\n",
      "|    242|                      77|                 C| Outbound|              False|\n",
      "|    382|                     139|                 C|  Inbound|               True|\n",
      "|    520|                     130|                 A|  Inbound|              False|\n",
      "|    337|                     120|                 C| Outbound|              False|\n",
      "|    522|                     111|                 F| Outbound|               True|\n",
      "+-------+------------------------+------------------+---------+-------------------+\n",
      "only showing top 5 rows\n",
      "\n"
     ]
    }
   ],
   "source": [
    "df_call_details.show(5)"
   ]
  },
  {
   "cell_type": "code",
   "execution_count": 44,
   "metadata": {},
   "outputs": [],
   "source": [
    "# write to csv\n",
    "df_call_details.write.csv('transformed_call_details', header= True)"
   ]
  }
 ],
 "metadata": {
  "kernelspec": {
   "display_name": "Python 3",
   "language": "python",
   "name": "python3"
  },
  "language_info": {
   "codemirror_mode": {
    "name": "ipython",
    "version": 3
   },
   "file_extension": ".py",
   "mimetype": "text/x-python",
   "name": "python",
   "nbconvert_exporter": "python",
   "pygments_lexer": "ipython3",
   "version": "3.10.9"
  }
 },
 "nbformat": 4,
 "nbformat_minor": 2
}
